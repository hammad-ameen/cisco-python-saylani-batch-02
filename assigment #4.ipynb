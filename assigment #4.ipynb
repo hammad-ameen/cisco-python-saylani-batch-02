{
 "cells": [
  {
   "cell_type": "markdown",
   "metadata": {},
   "source": [
    "### Question1:\n",
    "Use a dictionary to store information about a person you know. Store their first name, last name, age, and the city in which they live. You should have keys such as first_name, last_name, age, and city. Print each piece of information stored in your dictionary. Add a new key value pair about qualification then update the qualification value to high academic level then delete it.\n"
   ]
  },
  {
   "cell_type": "code",
   "execution_count": 1,
   "metadata": {},
   "outputs": [
    {
     "name": "stdout",
     "output_type": "stream",
     "text": [
      "Usman\n",
      "Rana\n",
      "23\n",
      "Narawal \n",
      "\n",
      "New key,value pair added: \n",
      " {'first_name': 'Usman', 'last_name': 'Rana', 'Age': '23', 'city': 'Narawal', 'qualification': '2nd year'} \n",
      "\n",
      "Update qualification: \n",
      " {'first_name': 'Usman', 'last_name': 'Rana', 'Age': '23', 'city': 'Narawal', 'qualification': 'BE in Electronics'} \n",
      "\n",
      "delete qualification key: \n",
      " {'first_name': 'Usman', 'last_name': 'Rana', 'Age': '23', 'city': 'Narawal'}\n"
     ]
    }
   ],
   "source": [
    "person={\"first_name\":\"Usman\",\"last_name\":\"Rana\",\"Age\":\"23\",\"city\":\"Narawal\"}\n",
    "\n",
    "# (i) Print each piece of information stored in your dictionary.\n",
    "print( person[\"first_name\"] )\n",
    "print( person[\"last_name\"] )\n",
    "print( person[\"Age\"] )\n",
    "print( person[\"city\"] ,\"\\n\")\n",
    "\n",
    "# (ii) Add a new key value pair about qualification.\n",
    "person[\"qualification\"] = \"2nd year\"\n",
    "print(\"New key,value pair added: \\n\",person,\"\\n\")\n",
    "\n",
    "# (iii) then update the qualification value to high academic level.\n",
    "person[\"qualification\"]=\"BE in Electronics\"\n",
    "print(\"Update qualification: \\n\" ,person,\"\\n\")\n",
    "\n",
    "# (iv) updated value delete.\n",
    "person.pop(\"qualification\")\n",
    "print(\"delete qualification key: \\n\",person)"
   ]
  },
  {
   "cell_type": "markdown",
   "metadata": {},
   "source": [
    "### Question2:\n",
    "Make a dictionary called cities. Use the names of three cities as keys in your dictionary. Create a dictionary of information about each city and include the country that the city is in, its approximate population, and one fact about that city. The keys for each city’s dictionary should be something like country, population, and fact. Print the name of each city and all of the information you have stored about it.\n"
   ]
  },
  {
   "cell_type": "code",
   "execution_count": 2,
   "metadata": {},
   "outputs": [
    {
     "name": "stdout",
     "output_type": "stream",
     "text": [
      "KARACHI info:\n",
      " {'IN': 'PAKISTAN ', 'Facts': 'City Of Lights', 'Population': '15 million'} \n",
      "\n",
      "Lahore info:\n",
      " {'IN': 'PAKISTAN', 'Facts': 'GDP is 58.14 billion', 'Population': '11.13 million'} \n",
      "\n",
      "Islamabad info:\n",
      " {'IN': 'PAKISTAN', 'Facts': 'Capital of PAKISTAN', 'Population': '1.015 million'}\n"
     ]
    }
   ],
   "source": [
    "cities={\n",
    "    \"karachi\":{\"IN\":\"PAKISTAN \",\"Facts\":\"City Of Lights\",\"Population\":\"15 million\"},\n",
    "    \"Lahore\":{\"IN\":\"PAKISTAN\",\"Facts\":\"GDP is 58.14 billion\",\"Population\":\"11.13 million\"},\n",
    "    \"Islamabad\":{\"IN\":\"PAKISTAN\",\"Facts\":\"Capital of PAKISTAN\",\"Population\":\"1.015 million\"}\n",
    "       }\n",
    "\n",
    "print(\"KARACHI info:\\n\",cities[\"karachi\"],\"\\n\")\n",
    "print(\"Lahore info:\\n\",cities['Lahore'],\"\\n\")\n",
    "print(\"Islamabad info:\\n\",cities['Islamabad'])"
   ]
  },
  {
   "cell_type": "markdown",
   "metadata": {},
   "source": [
    "### Question3:\n",
    "A movie theater charges different ticket prices depending on a person’s age. If a person is under the age of 3, the ticket is free; if they are between 3 and 12, the ticket is 10 dollar and if they are over age 12, ticket is 15 dollar. Write a loop in which you ask users their age, and then tell them the cost of their movie ticket.\n"
   ]
  },
  {
   "cell_type": "code",
   "execution_count": 3,
   "metadata": {},
   "outputs": [
    {
     "name": "stdout",
     "output_type": "stream",
     "text": [
      "enter your age: 3\n",
      "movie ticket is 10$\n"
     ]
    }
   ],
   "source": [
    "x=int(input(\"enter your age: \"))\n",
    "movie_tickets = True\n",
    "while movie_tickets:\n",
    "    if x<3:\n",
    "        print(\"free tickets\")\n",
    "        break\n",
    "    elif x>=3 and x<12:\n",
    "        print(\"movie ticket is 10$\")\n",
    "        break\n",
    "    else:\n",
    "        print(\"movie ticket is 15$\")\n",
    "        break"
   ]
  },
  {
   "cell_type": "markdown",
   "metadata": {},
   "source": [
    "### Question4:\n",
    "Write a function called favorite_book() that accepts one parameter, title. The function should print a message, such as One of my favorite books is Alice in Wonderland. Call the function, making sure to include a book title as an argument in the function call.\n"
   ]
  },
  {
   "cell_type": "code",
   "execution_count": 4,
   "metadata": {},
   "outputs": [
    {
     "name": "stdout",
     "output_type": "stream",
     "text": [
      "One of my favourites books is Alice in Wonderland\n",
      "One of my favourites books is Alice in Wonderland\n"
     ]
    }
   ],
   "source": [
    "def Favourite_books(title):\n",
    "    return(\"One of my favourites books is Alice in Wonderland\")\n",
    "\n",
    "h = Favourite_books(\"python for begginers\")\n",
    "print(h)\n",
    "\n",
    "print(Favourite_books(\"a\"))"
   ]
  },
  {
   "cell_type": "markdown",
   "metadata": {},
   "source": [
    "### Question5:\n",
    "\n",
    "**Guess the number game**<br>\n",
    "write a program which randomly generate a number between 1 to 30 and ask the user in input field to guess the correct number. Give three chances to user guess the number and also give hint to user if hidden number is greater or smaller than the number he given to input field.\n"
   ]
  },
  {
   "cell_type": "code",
   "execution_count": 5,
   "metadata": {},
   "outputs": [
    {
     "name": "stdout",
     "output_type": "stream",
     "text": [
      "you have only three chances\n",
      "guess a number between 1,30: 27\n",
      "ops! you guess the wrong number.\n",
      " the number you choose is lesser than the number.\n",
      "\n",
      "guess a number between 1,30: 37\n",
      "ops! you guess the wrong number.\n",
      " the number you choose is greater than the number.\n",
      "\n",
      "guess a number between 1,30: 29\n",
      "ops! you guess the wrong number.\n",
      " the number you choose is lesser than the number.\n",
      "\n",
      "Right number is:  30\n"
     ]
    }
   ],
   "source": [
    "from random import randint\n",
    "print(\"you have only three chances\")\n",
    "num_selected = randint(1,30)\n",
    "\n",
    "for Q in range(0,3):\n",
    "    a = int(input(\"guess a number between 1,30: \"))\n",
    "    \n",
    "    if a== num_selected:\n",
    "        print(\"you guess the right number \\n which is\",num_selected)\n",
    "    elif a> num_selected:\n",
    "        print(\"ops! you guess the wrong number.\\n the number you choose is greater than the number.\\n\")\n",
    "    elif a<num_selected:\n",
    "        print(\"ops! you guess the wrong number.\\n the number you choose is lesser than the number.\\n\")\n",
    "        \n",
    "print( \"Right number is: \", num_selected )"
   ]
  }
 ],
 "metadata": {
  "kernelspec": {
   "display_name": "Python 3",
   "language": "python",
   "name": "python3"
  },
  "language_info": {
   "codemirror_mode": {
    "name": "ipython",
    "version": 3
   },
   "file_extension": ".py",
   "mimetype": "text/x-python",
   "name": "python",
   "nbconvert_exporter": "python",
   "pygments_lexer": "ipython3",
   "version": "3.6.5"
  }
 },
 "nbformat": 4,
 "nbformat_minor": 2
}
