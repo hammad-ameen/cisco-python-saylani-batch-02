{
 "cells": [
  {
   "cell_type": "markdown",
   "metadata": {},
   "source": [
    "### Question:1 \n",
    "Write a Python function to calculate the factorial of a number (a non-negative integer). The function accepts the number as an argument."
   ]
  },
  {
   "cell_type": "code",
   "execution_count": 1,
   "metadata": {},
   "outputs": [
    {
     "name": "stdout",
     "output_type": "stream",
     "text": [
      "The factorial of 4 is: 24\n"
     ]
    }
   ],
   "source": [
    "# 3!= 1*2*3=6\n",
    "def factorial(n):\n",
    "    x = 1\n",
    "    if n < 0:\n",
    "        print(\"Sorry, factorial does not exist for negative numbers\")\n",
    "    elif n == 0:\n",
    "        print(\"The factorial of 0 is: 1\")\n",
    "    else:\n",
    "        for _ in range(2,n + 1):\n",
    "            x *= _\n",
    "        print(\"The factorial of\",n,\"is:\",x)\n",
    "        \n",
    "        \n",
    "factorial(4)"
   ]
  },
  {
   "cell_type": "markdown",
   "metadata": {},
   "source": [
    "### Question:2\n",
    "Write a Python function that accepts a string and calculate the number of upper case letters and lower case letters."
   ]
  },
  {
   "cell_type": "code",
   "execution_count": null,
   "metadata": {},
   "outputs": [],
   "source": [
    "def string_test(s):\n",
    "    d={\"UPPER_CASE\":0, \"LOWER_CASE\":0}\n",
    "    for c in s:\n",
    "        if c.isupper():\n",
    "           d[\"UPPER_CASE\"]+=1\n",
    "        elif c.islower():\n",
    "           d[\"LOWER_CASE\"]+=1\n",
    "        else:\n",
    "           pass\n",
    "    print (\"Original String : \", s)\n",
    "    print (\"No. of Upper case characters : \", d[\"UPPER_CASE\"])\n",
    "    print (\"No. of Lower case Characters : \", d[\"LOWER_CASE\"])\n",
    "\n",
    "string_test('The quick Brown Fox')"
   ]
  },
  {
   "cell_type": "markdown",
   "metadata": {},
   "source": [
    "### Question:3\n",
    "Write a Python function to print the even numbers from a given list."
   ]
  },
  {
   "cell_type": "code",
   "execution_count": 3,
   "metadata": {},
   "outputs": [
    {
     "name": "stdout",
     "output_type": "stream",
     "text": [
      "Even numbers in the list:  [146, 22, 98]\n"
     ]
    }
   ],
   "source": [
    "def even_numbers(list1):\n",
    "    x = [num for num in list1 if num % 2 == 0]\n",
    "    print(\"Even numbers in the list: \",x) \n",
    "\n",
    "even_numbers([146, 22, 409, 98, 67])"
   ]
  },
  {
   "cell_type": "markdown",
   "metadata": {},
   "source": [
    "### Question:4\n",
    "Write a Python function that checks whether a passed string is palindrome or not. Note: A palindrome is a word, phrase, or sequence that reads the same backward as forward, e.g., madam "
   ]
  },
  {
   "cell_type": "code",
   "execution_count": 3,
   "metadata": {},
   "outputs": [
    {
     "name": "stdout",
     "output_type": "stream",
     "text": [
      "This word is palindrome: MADAM\n",
      "Chosing word is not palindrome\n"
     ]
    }
   ],
   "source": [
    "def palindrome(s):\n",
    "    s.lower()\n",
    "    if s[::1]==s[::-1]:\n",
    "        print(\"This word is palindrome:\",s[::-1])\n",
    "    else:\n",
    "        print(\"Chosing word is not palindrome\")\n",
    "        \n",
    "        \n",
    "palindrome(\"MADAM\")\n",
    "palindrome(\"telnet\")"
   ]
  },
  {
   "cell_type": "markdown",
   "metadata": {},
   "source": [
    "### Question:5 \n",
    "Write a Python function that takes a number as a parameter and check the number is prime or not."
   ]
  },
  {
   "cell_type": "code",
   "execution_count": 4,
   "metadata": {},
   "outputs": [
    {
     "name": "stdout",
     "output_type": "stream",
     "text": [
      "33 is a prime number\n",
      "23 is a prime number\n",
      "2 is not a prime number\n",
      "13 is a prime number\n",
      "59 is a prime number\n"
     ]
    }
   ],
   "source": [
    "def prime_number(i):\n",
    "    if i==2:\n",
    "        print(i, \"is not a prime number\")\n",
    "        \n",
    "    elif i > 2: \n",
    "        for f in range(2, i//2):\n",
    "            if (i % f) == 0:\n",
    "                print(i, \"is not a prime number\") \n",
    "                break\n",
    "            else:\n",
    "                print(i, \"is a prime number\") \n",
    "                break\n",
    "    else:\n",
    "        print(i, \"is not a prime number\") \n",
    "\n",
    "prime_number(33)\n",
    "prime_number(23)\n",
    "prime_number(2)\n",
    "prime_number(13)\n",
    "prime_number(59)"
   ]
  },
  {
   "cell_type": "markdown",
   "metadata": {},
   "source": [
    "### Question: 6\n",
    "Suppose a customer is shopping in a market and you need to print all the items which user bought from market. Write a function which accepts the multiple arguments of user shopping list and print all the items which user bought from market. (Hint: Arbitrary Argument concept can make this task ease)"
   ]
  },
  {
   "cell_type": "code",
   "execution_count": 5,
   "metadata": {},
   "outputs": [
    {
     "name": "stdout",
     "output_type": "stream",
     "text": [
      "item you buy:  mango\n",
      "item you buy:  apple\n",
      "item you buy:  ground wheat\n",
      "item you buy:  juices\n",
      "item you buy:  oil\n"
     ]
    }
   ],
   "source": [
    "def grocery_list(*items):\n",
    "    for j in items:\n",
    "        print('item you buy: ',j)\n",
    "        \n",
    "\n",
    "grocery_list( \"mango\",\"apple\",\"ground wheat\",\"juices\",\"oil\" )"
   ]
  }
 ],
 "metadata": {
  "kernelspec": {
   "display_name": "Python 3",
   "language": "python",
   "name": "python3"
  },
  "language_info": {
   "codemirror_mode": {
    "name": "ipython",
    "version": 3
   },
   "file_extension": ".py",
   "mimetype": "text/x-python",
   "name": "python",
   "nbconvert_exporter": "python",
   "pygments_lexer": "ipython3",
   "version": "3.6.5"
  }
 },
 "nbformat": 4,
 "nbformat_minor": 2
}
